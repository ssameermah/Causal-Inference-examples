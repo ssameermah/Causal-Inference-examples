{
 "cells": [
  {
   "cell_type": "code",
   "execution_count": 1,
   "id": "adc03c99",
   "metadata": {
    "_cell_guid": "b1076dfc-b9ad-4769-8c92-a6c4dae69d19",
    "_uuid": "8f2839f25d086af736a60e9eeb907d3b93b6e0e5",
    "execution": {
     "iopub.execute_input": "2021-12-27T05:54:37.338417Z",
     "iopub.status.busy": "2021-12-27T05:54:37.337272Z",
     "iopub.status.idle": "2021-12-27T05:54:47.880762Z",
     "shell.execute_reply": "2021-12-27T05:54:47.879998Z",
     "shell.execute_reply.started": "2021-12-27T04:19:26.808795Z"
    },
    "papermill": {
     "duration": 10.557037,
     "end_time": "2021-12-27T05:54:47.880926",
     "exception": false,
     "start_time": "2021-12-27T05:54:37.323889",
     "status": "completed"
    },
    "tags": []
   },
   "outputs": [
    {
     "name": "stdout",
     "output_type": "stream",
     "text": [
      "Collecting yfinance\r\n",
      "  Downloading yfinance-0.1.67-py2.py3-none-any.whl (25 kB)\r\n",
      "Requirement already satisfied: requests>=2.20 in /opt/conda/lib/python3.7/site-packages (from yfinance) (2.25.1)\r\n",
      "Requirement already satisfied: lxml>=4.5.1 in /opt/conda/lib/python3.7/site-packages (from yfinance) (4.6.4)\r\n",
      "Requirement already satisfied: numpy>=1.15 in /opt/conda/lib/python3.7/site-packages (from yfinance) (1.19.5)\r\n",
      "Collecting multitasking>=0.0.7\r\n",
      "  Downloading multitasking-0.0.10.tar.gz (8.2 kB)\r\n",
      "  Preparing metadata (setup.py) ... \u001b[?25l-\b \bdone\r\n",
      "\u001b[?25hRequirement already satisfied: pandas>=0.24 in /opt/conda/lib/python3.7/site-packages (from yfinance) (1.3.4)\r\n",
      "Requirement already satisfied: python-dateutil>=2.7.3 in /opt/conda/lib/python3.7/site-packages (from pandas>=0.24->yfinance) (2.8.0)\r\n",
      "Requirement already satisfied: pytz>=2017.3 in /opt/conda/lib/python3.7/site-packages (from pandas>=0.24->yfinance) (2021.3)\r\n",
      "Requirement already satisfied: chardet<5,>=3.0.2 in /opt/conda/lib/python3.7/site-packages (from requests>=2.20->yfinance) (4.0.0)\r\n",
      "Requirement already satisfied: certifi>=2017.4.17 in /opt/conda/lib/python3.7/site-packages (from requests>=2.20->yfinance) (2021.10.8)\r\n",
      "Requirement already satisfied: idna<3,>=2.5 in /opt/conda/lib/python3.7/site-packages (from requests>=2.20->yfinance) (2.10)\r\n",
      "Requirement already satisfied: urllib3<1.27,>=1.21.1 in /opt/conda/lib/python3.7/site-packages (from requests>=2.20->yfinance) (1.26.7)\r\n",
      "Requirement already satisfied: six>=1.5 in /opt/conda/lib/python3.7/site-packages (from python-dateutil>=2.7.3->pandas>=0.24->yfinance) (1.16.0)\r\n",
      "Building wheels for collected packages: multitasking\r\n",
      "  Building wheel for multitasking (setup.py) ... \u001b[?25l-\b \b\\\b \bdone\r\n",
      "\u001b[?25h  Created wheel for multitasking: filename=multitasking-0.0.10-py3-none-any.whl size=8500 sha256=5561521cedbdf3631410f3a8026c1059fe89029f7b238ee5cc41d84a44b39246\r\n",
      "  Stored in directory: /root/.cache/pip/wheels/34/ba/79/c0260c6f1a03f420ec7673eff9981778f293b9107974679e36\r\n",
      "Successfully built multitasking\r\n",
      "Installing collected packages: multitasking, yfinance\r\n",
      "Successfully installed multitasking-0.0.10 yfinance-0.1.67\r\n",
      "\u001b[33mWARNING: Running pip as the 'root' user can result in broken permissions and conflicting behaviour with the system package manager. It is recommended to use a virtual environment instead: https://pip.pypa.io/warnings/venv\u001b[0m\r\n"
     ]
    }
   ],
   "source": [
    "!pip install yfinance"
   ]
  },
  {
   "cell_type": "code",
   "execution_count": 2,
   "id": "f235d33c",
   "metadata": {
    "execution": {
     "iopub.execute_input": "2021-12-27T05:54:47.916699Z",
     "iopub.status.busy": "2021-12-27T05:54:47.916084Z",
     "iopub.status.idle": "2021-12-27T05:54:55.381842Z",
     "shell.execute_reply": "2021-12-27T05:54:55.381137Z",
     "shell.execute_reply.started": "2021-12-27T04:19:35.964022Z"
    },
    "papermill": {
     "duration": 7.487879,
     "end_time": "2021-12-27T05:54:55.381980",
     "exception": false,
     "start_time": "2021-12-27T05:54:47.894101",
     "status": "completed"
    },
    "tags": []
   },
   "outputs": [
    {
     "name": "stdout",
     "output_type": "stream",
     "text": [
      "Collecting pycausalimpact\r\n",
      "  Downloading pycausalimpact-0.1.1-py2.py3-none-any.whl (30 kB)\r\n",
      "Requirement already satisfied: matplotlib>=2.2.3 in /opt/conda/lib/python3.7/site-packages (from pycausalimpact) (3.5.0)\r\n",
      "Requirement already satisfied: numpy in /opt/conda/lib/python3.7/site-packages (from pycausalimpact) (1.19.5)\r\n",
      "Requirement already satisfied: statsmodels>=0.11.0 in /opt/conda/lib/python3.7/site-packages (from pycausalimpact) (0.12.2)\r\n",
      "Requirement already satisfied: scipy in /opt/conda/lib/python3.7/site-packages (from pycausalimpact) (1.7.2)\r\n",
      "Requirement already satisfied: jinja2>=2.10 in /opt/conda/lib/python3.7/site-packages (from pycausalimpact) (3.0.3)\r\n",
      "Requirement already satisfied: MarkupSafe>=2.0 in /opt/conda/lib/python3.7/site-packages (from jinja2>=2.10->pycausalimpact) (2.0.1)\r\n",
      "Requirement already satisfied: cycler>=0.10 in /opt/conda/lib/python3.7/site-packages (from matplotlib>=2.2.3->pycausalimpact) (0.11.0)\r\n",
      "Requirement already satisfied: pillow>=6.2.0 in /opt/conda/lib/python3.7/site-packages (from matplotlib>=2.2.3->pycausalimpact) (8.2.0)\r\n",
      "Requirement already satisfied: pyparsing>=2.2.1 in /opt/conda/lib/python3.7/site-packages (from matplotlib>=2.2.3->pycausalimpact) (3.0.6)\r\n",
      "Requirement already satisfied: setuptools-scm>=4 in /opt/conda/lib/python3.7/site-packages (from matplotlib>=2.2.3->pycausalimpact) (6.3.2)\r\n",
      "Requirement already satisfied: fonttools>=4.22.0 in /opt/conda/lib/python3.7/site-packages (from matplotlib>=2.2.3->pycausalimpact) (4.28.2)\r\n",
      "Requirement already satisfied: packaging>=20.0 in /opt/conda/lib/python3.7/site-packages (from matplotlib>=2.2.3->pycausalimpact) (21.0)\r\n",
      "Requirement already satisfied: kiwisolver>=1.0.1 in /opt/conda/lib/python3.7/site-packages (from matplotlib>=2.2.3->pycausalimpact) (1.3.2)\r\n",
      "Requirement already satisfied: python-dateutil>=2.7 in /opt/conda/lib/python3.7/site-packages (from matplotlib>=2.2.3->pycausalimpact) (2.8.0)\r\n",
      "Requirement already satisfied: patsy>=0.5 in /opt/conda/lib/python3.7/site-packages (from statsmodels>=0.11.0->pycausalimpact) (0.5.2)\r\n",
      "Requirement already satisfied: pandas>=0.21 in /opt/conda/lib/python3.7/site-packages (from statsmodels>=0.11.0->pycausalimpact) (1.3.4)\r\n",
      "Requirement already satisfied: pytz>=2017.3 in /opt/conda/lib/python3.7/site-packages (from pandas>=0.21->statsmodels>=0.11.0->pycausalimpact) (2021.3)\r\n",
      "Requirement already satisfied: six in /opt/conda/lib/python3.7/site-packages (from patsy>=0.5->statsmodels>=0.11.0->pycausalimpact) (1.16.0)\r\n",
      "Requirement already satisfied: tomli>=1.0.0 in /opt/conda/lib/python3.7/site-packages (from setuptools-scm>=4->matplotlib>=2.2.3->pycausalimpact) (1.2.2)\r\n",
      "Requirement already satisfied: setuptools in /opt/conda/lib/python3.7/site-packages (from setuptools-scm>=4->matplotlib>=2.2.3->pycausalimpact) (59.1.1)\r\n",
      "Installing collected packages: pycausalimpact\r\n",
      "Successfully installed pycausalimpact-0.1.1\r\n",
      "\u001b[33mWARNING: Running pip as the 'root' user can result in broken permissions and conflicting behaviour with the system package manager. It is recommended to use a virtual environment instead: https://pip.pypa.io/warnings/venv\u001b[0m\r\n"
     ]
    }
   ],
   "source": [
    "!pip install pycausalimpact"
   ]
  },
  {
   "cell_type": "code",
   "execution_count": 3,
   "id": "3d756982",
   "metadata": {
    "execution": {
     "iopub.execute_input": "2021-12-27T05:54:55.414831Z",
     "iopub.status.busy": "2021-12-27T05:54:55.413968Z",
     "iopub.status.idle": "2021-12-27T05:54:55.425035Z",
     "shell.execute_reply": "2021-12-27T05:54:55.425568Z",
     "shell.execute_reply.started": "2021-12-27T04:19:44.725269Z"
    },
    "papermill": {
     "duration": 0.029912,
     "end_time": "2021-12-27T05:54:55.425788",
     "exception": false,
     "start_time": "2021-12-27T05:54:55.395876",
     "status": "completed"
    },
    "tags": []
   },
   "outputs": [],
   "source": [
    "import yfinance as yf\n",
    "import pandas as pd"
   ]
  },
  {
   "cell_type": "code",
   "execution_count": 4,
   "id": "fa528e2e",
   "metadata": {
    "execution": {
     "iopub.execute_input": "2021-12-27T05:54:55.458378Z",
     "iopub.status.busy": "2021-12-27T05:54:55.457754Z",
     "iopub.status.idle": "2021-12-27T05:54:55.459259Z",
     "shell.execute_reply": "2021-12-27T05:54:55.459741Z",
     "shell.execute_reply.started": "2021-12-27T04:19:44.744129Z"
    },
    "papermill": {
     "duration": 0.020321,
     "end_time": "2021-12-27T05:54:55.459898",
     "exception": false,
     "start_time": "2021-12-27T05:54:55.439577",
     "status": "completed"
    },
    "tags": []
   },
   "outputs": [],
   "source": [
    "training_start = \"2018-01-02\"\n",
    "training_end = \"2018-09-05\"\n",
    "treatment_start = \"2018-09-06\"\n",
    "treatment_end = \"2018-09-07\"\n",
    "#we need to check what happened during these dates hence they are called treatment dates\n",
    "end_stock = \"2018-09-08\"\n"
   ]
  },
  {
   "cell_type": "code",
   "execution_count": 5,
   "id": "254fd37e",
   "metadata": {
    "execution": {
     "iopub.execute_input": "2021-12-27T05:54:55.495594Z",
     "iopub.status.busy": "2021-12-27T05:54:55.491629Z",
     "iopub.status.idle": "2021-12-27T05:54:56.487157Z",
     "shell.execute_reply": "2021-12-27T05:54:56.487769Z",
     "shell.execute_reply.started": "2021-12-27T04:21:34.40953Z"
    },
    "papermill": {
     "duration": 1.01443,
     "end_time": "2021-12-27T05:54:56.488015",
     "exception": false,
     "start_time": "2021-12-27T05:54:55.473585",
     "status": "completed"
    },
    "tags": []
   },
   "outputs": [
    {
     "name": "stdout",
     "output_type": "stream",
     "text": [
      "[*********************100%***********************]  6 of 6 completed\n"
     ]
    }
   ],
   "source": [
    "stocks = [\"TSLA\",\"VOLVF\",\"GOOG\",\"BMW.DE\",\"GM\",\"DAI.DE\"]\n",
    "dataset = yf.download(stocks, start = training_start, end = end_stock,interval =\"1d\")"
   ]
  },
  {
   "cell_type": "code",
   "execution_count": 6,
   "id": "79beaa47",
   "metadata": {
    "execution": {
     "iopub.execute_input": "2021-12-27T05:54:56.523082Z",
     "iopub.status.busy": "2021-12-27T05:54:56.522162Z",
     "iopub.status.idle": "2021-12-27T05:54:56.561235Z",
     "shell.execute_reply": "2021-12-27T05:54:56.561690Z",
     "shell.execute_reply.started": "2021-12-27T04:21:45.249941Z"
    },
    "papermill": {
     "duration": 0.057926,
     "end_time": "2021-12-27T05:54:56.561854",
     "exception": false,
     "start_time": "2021-12-27T05:54:56.503928",
     "status": "completed"
    },
    "tags": []
   },
   "outputs": [
    {
     "data": {
      "text/html": [
       "<div>\n",
       "<style scoped>\n",
       "    .dataframe tbody tr th:only-of-type {\n",
       "        vertical-align: middle;\n",
       "    }\n",
       "\n",
       "    .dataframe tbody tr th {\n",
       "        vertical-align: top;\n",
       "    }\n",
       "\n",
       "    .dataframe thead tr th {\n",
       "        text-align: left;\n",
       "    }\n",
       "\n",
       "    .dataframe thead tr:last-of-type th {\n",
       "        text-align: right;\n",
       "    }\n",
       "</style>\n",
       "<table border=\"1\" class=\"dataframe\">\n",
       "  <thead>\n",
       "    <tr>\n",
       "      <th></th>\n",
       "      <th colspan=\"6\" halign=\"left\">Adj Close</th>\n",
       "      <th colspan=\"4\" halign=\"left\">Close</th>\n",
       "      <th>...</th>\n",
       "      <th colspan=\"4\" halign=\"left\">Open</th>\n",
       "      <th colspan=\"6\" halign=\"left\">Volume</th>\n",
       "    </tr>\n",
       "    <tr>\n",
       "      <th></th>\n",
       "      <th>BMW.DE</th>\n",
       "      <th>DAI.DE</th>\n",
       "      <th>GM</th>\n",
       "      <th>GOOG</th>\n",
       "      <th>TSLA</th>\n",
       "      <th>VOLVF</th>\n",
       "      <th>BMW.DE</th>\n",
       "      <th>DAI.DE</th>\n",
       "      <th>GM</th>\n",
       "      <th>GOOG</th>\n",
       "      <th>...</th>\n",
       "      <th>GM</th>\n",
       "      <th>GOOG</th>\n",
       "      <th>TSLA</th>\n",
       "      <th>VOLVF</th>\n",
       "      <th>BMW.DE</th>\n",
       "      <th>DAI.DE</th>\n",
       "      <th>GM</th>\n",
       "      <th>GOOG</th>\n",
       "      <th>TSLA</th>\n",
       "      <th>VOLVF</th>\n",
       "    </tr>\n",
       "    <tr>\n",
       "      <th>Date</th>\n",
       "      <th></th>\n",
       "      <th></th>\n",
       "      <th></th>\n",
       "      <th></th>\n",
       "      <th></th>\n",
       "      <th></th>\n",
       "      <th></th>\n",
       "      <th></th>\n",
       "      <th></th>\n",
       "      <th></th>\n",
       "      <th></th>\n",
       "      <th></th>\n",
       "      <th></th>\n",
       "      <th></th>\n",
       "      <th></th>\n",
       "      <th></th>\n",
       "      <th></th>\n",
       "      <th></th>\n",
       "      <th></th>\n",
       "      <th></th>\n",
       "      <th></th>\n",
       "    </tr>\n",
       "  </thead>\n",
       "  <tbody>\n",
       "    <tr>\n",
       "      <th>2018-01-02</th>\n",
       "      <td>71.017624</td>\n",
       "      <td>57.920139</td>\n",
       "      <td>38.072208</td>\n",
       "      <td>1065.000000</td>\n",
       "      <td>64.106003</td>\n",
       "      <td>18.941416</td>\n",
       "      <td>86.400002</td>\n",
       "      <td>70.620003</td>\n",
       "      <td>41.799999</td>\n",
       "      <td>1065.000000</td>\n",
       "      <td>...</td>\n",
       "      <td>41.240002</td>\n",
       "      <td>1048.339966</td>\n",
       "      <td>62.400002</td>\n",
       "      <td>18.900000</td>\n",
       "      <td>2673332.0</td>\n",
       "      <td>3986093.0</td>\n",
       "      <td>6934600.0</td>\n",
       "      <td>1237600.0</td>\n",
       "      <td>21761000.0</td>\n",
       "      <td>86700.0</td>\n",
       "    </tr>\n",
       "    <tr>\n",
       "      <th>2018-01-03</th>\n",
       "      <td>71.395714</td>\n",
       "      <td>58.387634</td>\n",
       "      <td>39.001244</td>\n",
       "      <td>1082.479980</td>\n",
       "      <td>63.450001</td>\n",
       "      <td>19.220846</td>\n",
       "      <td>86.860001</td>\n",
       "      <td>71.190002</td>\n",
       "      <td>42.820000</td>\n",
       "      <td>1082.479980</td>\n",
       "      <td>...</td>\n",
       "      <td>42.209999</td>\n",
       "      <td>1064.310059</td>\n",
       "      <td>64.199997</td>\n",
       "      <td>19.260000</td>\n",
       "      <td>1396762.0</td>\n",
       "      <td>2917382.0</td>\n",
       "      <td>14591600.0</td>\n",
       "      <td>1430200.0</td>\n",
       "      <td>22607500.0</td>\n",
       "      <td>11800.0</td>\n",
       "    </tr>\n",
       "    <tr>\n",
       "      <th>2018-01-04</th>\n",
       "      <td>71.905334</td>\n",
       "      <td>59.068367</td>\n",
       "      <td>40.203526</td>\n",
       "      <td>1086.400024</td>\n",
       "      <td>62.924000</td>\n",
       "      <td>19.500278</td>\n",
       "      <td>87.480003</td>\n",
       "      <td>72.019997</td>\n",
       "      <td>44.139999</td>\n",
       "      <td>1086.400024</td>\n",
       "      <td>...</td>\n",
       "      <td>43.090000</td>\n",
       "      <td>1088.000000</td>\n",
       "      <td>62.574001</td>\n",
       "      <td>19.540001</td>\n",
       "      <td>1872794.0</td>\n",
       "      <td>3633663.0</td>\n",
       "      <td>17298700.0</td>\n",
       "      <td>1004600.0</td>\n",
       "      <td>49731500.0</td>\n",
       "      <td>31200.0</td>\n",
       "    </tr>\n",
       "    <tr>\n",
       "      <th>2018-01-05</th>\n",
       "      <td>72.743736</td>\n",
       "      <td>59.855740</td>\n",
       "      <td>40.085114</td>\n",
       "      <td>1102.229980</td>\n",
       "      <td>63.316002</td>\n",
       "      <td>19.500278</td>\n",
       "      <td>88.500000</td>\n",
       "      <td>72.980003</td>\n",
       "      <td>44.009998</td>\n",
       "      <td>1102.229980</td>\n",
       "      <td>...</td>\n",
       "      <td>44.500000</td>\n",
       "      <td>1094.000000</td>\n",
       "      <td>63.324001</td>\n",
       "      <td>19.540001</td>\n",
       "      <td>1911027.0</td>\n",
       "      <td>3492462.0</td>\n",
       "      <td>9643300.0</td>\n",
       "      <td>1279100.0</td>\n",
       "      <td>22956000.0</td>\n",
       "      <td>0.0</td>\n",
       "    </tr>\n",
       "    <tr>\n",
       "      <th>2018-01-08</th>\n",
       "      <td>73.705429</td>\n",
       "      <td>60.487251</td>\n",
       "      <td>40.276394</td>\n",
       "      <td>1106.939941</td>\n",
       "      <td>67.281998</td>\n",
       "      <td>19.300684</td>\n",
       "      <td>89.669998</td>\n",
       "      <td>73.750000</td>\n",
       "      <td>44.220001</td>\n",
       "      <td>1106.939941</td>\n",
       "      <td>...</td>\n",
       "      <td>44.040001</td>\n",
       "      <td>1102.229980</td>\n",
       "      <td>63.200001</td>\n",
       "      <td>19.389999</td>\n",
       "      <td>2298840.0</td>\n",
       "      <td>3954673.0</td>\n",
       "      <td>13099600.0</td>\n",
       "      <td>1047600.0</td>\n",
       "      <td>49297000.0</td>\n",
       "      <td>24500.0</td>\n",
       "    </tr>\n",
       "  </tbody>\n",
       "</table>\n",
       "<p>5 rows × 36 columns</p>\n",
       "</div>"
      ],
      "text/plain": [
       "            Adj Close                                                \\\n",
       "               BMW.DE     DAI.DE         GM         GOOG       TSLA   \n",
       "Date                                                                  \n",
       "2018-01-02  71.017624  57.920139  38.072208  1065.000000  64.106003   \n",
       "2018-01-03  71.395714  58.387634  39.001244  1082.479980  63.450001   \n",
       "2018-01-04  71.905334  59.068367  40.203526  1086.400024  62.924000   \n",
       "2018-01-05  72.743736  59.855740  40.085114  1102.229980  63.316002   \n",
       "2018-01-08  73.705429  60.487251  40.276394  1106.939941  67.281998   \n",
       "\n",
       "                           Close                                     ...  \\\n",
       "                VOLVF     BMW.DE     DAI.DE         GM         GOOG  ...   \n",
       "Date                                                                 ...   \n",
       "2018-01-02  18.941416  86.400002  70.620003  41.799999  1065.000000  ...   \n",
       "2018-01-03  19.220846  86.860001  71.190002  42.820000  1082.479980  ...   \n",
       "2018-01-04  19.500278  87.480003  72.019997  44.139999  1086.400024  ...   \n",
       "2018-01-05  19.500278  88.500000  72.980003  44.009998  1102.229980  ...   \n",
       "2018-01-08  19.300684  89.669998  73.750000  44.220001  1106.939941  ...   \n",
       "\n",
       "                 Open                                        Volume  \\\n",
       "                   GM         GOOG       TSLA      VOLVF     BMW.DE   \n",
       "Date                                                                  \n",
       "2018-01-02  41.240002  1048.339966  62.400002  18.900000  2673332.0   \n",
       "2018-01-03  42.209999  1064.310059  64.199997  19.260000  1396762.0   \n",
       "2018-01-04  43.090000  1088.000000  62.574001  19.540001  1872794.0   \n",
       "2018-01-05  44.500000  1094.000000  63.324001  19.540001  1911027.0   \n",
       "2018-01-08  44.040001  1102.229980  63.200001  19.389999  2298840.0   \n",
       "\n",
       "                                                                   \n",
       "               DAI.DE          GM       GOOG        TSLA    VOLVF  \n",
       "Date                                                               \n",
       "2018-01-02  3986093.0   6934600.0  1237600.0  21761000.0  86700.0  \n",
       "2018-01-03  2917382.0  14591600.0  1430200.0  22607500.0  11800.0  \n",
       "2018-01-04  3633663.0  17298700.0  1004600.0  49731500.0  31200.0  \n",
       "2018-01-05  3492462.0   9643300.0  1279100.0  22956000.0      0.0  \n",
       "2018-01-08  3954673.0  13099600.0  1047600.0  49297000.0  24500.0  \n",
       "\n",
       "[5 rows x 36 columns]"
      ]
     },
     "execution_count": 6,
     "metadata": {},
     "output_type": "execute_result"
    }
   ],
   "source": [
    "dataset.head()"
   ]
  },
  {
   "cell_type": "code",
   "execution_count": 7,
   "id": "f965cba5",
   "metadata": {
    "execution": {
     "iopub.execute_input": "2021-12-27T05:54:56.597350Z",
     "iopub.status.busy": "2021-12-27T05:54:56.596784Z",
     "iopub.status.idle": "2021-12-27T05:54:56.611889Z",
     "shell.execute_reply": "2021-12-27T05:54:56.612360Z",
     "shell.execute_reply.started": "2021-12-27T04:25:02.603772Z"
    },
    "papermill": {
     "duration": 0.034494,
     "end_time": "2021-12-27T05:54:56.612525",
     "exception": false,
     "start_time": "2021-12-27T05:54:56.578031",
     "status": "completed"
    },
    "tags": []
   },
   "outputs": [
    {
     "data": {
      "text/html": [
       "<div>\n",
       "<style scoped>\n",
       "    .dataframe tbody tr th:only-of-type {\n",
       "        vertical-align: middle;\n",
       "    }\n",
       "\n",
       "    .dataframe tbody tr th {\n",
       "        vertical-align: top;\n",
       "    }\n",
       "\n",
       "    .dataframe thead th {\n",
       "        text-align: right;\n",
       "    }\n",
       "</style>\n",
       "<table border=\"1\" class=\"dataframe\">\n",
       "  <thead>\n",
       "    <tr style=\"text-align: right;\">\n",
       "      <th></th>\n",
       "      <th>BMW.DE</th>\n",
       "      <th>DAI.DE</th>\n",
       "      <th>GM</th>\n",
       "      <th>GOOG</th>\n",
       "      <th>TSLA</th>\n",
       "      <th>VOLVF</th>\n",
       "    </tr>\n",
       "    <tr>\n",
       "      <th>Date</th>\n",
       "      <th></th>\n",
       "      <th></th>\n",
       "      <th></th>\n",
       "      <th></th>\n",
       "      <th></th>\n",
       "      <th></th>\n",
       "    </tr>\n",
       "  </thead>\n",
       "  <tbody>\n",
       "    <tr>\n",
       "      <th>2018-01-02</th>\n",
       "      <td>71.017624</td>\n",
       "      <td>57.920139</td>\n",
       "      <td>38.072208</td>\n",
       "      <td>1065.000000</td>\n",
       "      <td>64.106003</td>\n",
       "      <td>18.941416</td>\n",
       "    </tr>\n",
       "    <tr>\n",
       "      <th>2018-01-03</th>\n",
       "      <td>71.395714</td>\n",
       "      <td>58.387634</td>\n",
       "      <td>39.001244</td>\n",
       "      <td>1082.479980</td>\n",
       "      <td>63.450001</td>\n",
       "      <td>19.220846</td>\n",
       "    </tr>\n",
       "    <tr>\n",
       "      <th>2018-01-04</th>\n",
       "      <td>71.905334</td>\n",
       "      <td>59.068367</td>\n",
       "      <td>40.203526</td>\n",
       "      <td>1086.400024</td>\n",
       "      <td>62.924000</td>\n",
       "      <td>19.500278</td>\n",
       "    </tr>\n",
       "    <tr>\n",
       "      <th>2018-01-05</th>\n",
       "      <td>72.743736</td>\n",
       "      <td>59.855740</td>\n",
       "      <td>40.085114</td>\n",
       "      <td>1102.229980</td>\n",
       "      <td>63.316002</td>\n",
       "      <td>19.500278</td>\n",
       "    </tr>\n",
       "    <tr>\n",
       "      <th>2018-01-08</th>\n",
       "      <td>73.705429</td>\n",
       "      <td>60.487251</td>\n",
       "      <td>40.276394</td>\n",
       "      <td>1106.939941</td>\n",
       "      <td>67.281998</td>\n",
       "      <td>19.300684</td>\n",
       "    </tr>\n",
       "  </tbody>\n",
       "</table>\n",
       "</div>"
      ],
      "text/plain": [
       "               BMW.DE     DAI.DE         GM         GOOG       TSLA      VOLVF\n",
       "Date                                                                          \n",
       "2018-01-02  71.017624  57.920139  38.072208  1065.000000  64.106003  18.941416\n",
       "2018-01-03  71.395714  58.387634  39.001244  1082.479980  63.450001  19.220846\n",
       "2018-01-04  71.905334  59.068367  40.203526  1086.400024  62.924000  19.500278\n",
       "2018-01-05  72.743736  59.855740  40.085114  1102.229980  63.316002  19.500278\n",
       "2018-01-08  73.705429  60.487251  40.276394  1106.939941  67.281998  19.300684"
      ]
     },
     "execution_count": 7,
     "metadata": {},
     "output_type": "execute_result"
    }
   ],
   "source": [
    "dataset = dataset.iloc[:,:6]\n",
    "dataset.columns = dataset.columns.droplevel()\n",
    "dataset = dataset.dropna()\n",
    "dataset.head()"
   ]
  },
  {
   "cell_type": "code",
   "execution_count": 8,
   "id": "2ba4105b",
   "metadata": {
    "execution": {
     "iopub.execute_input": "2021-12-27T05:54:56.659874Z",
     "iopub.status.busy": "2021-12-27T05:54:56.659239Z",
     "iopub.status.idle": "2021-12-27T05:54:56.662587Z",
     "shell.execute_reply": "2021-12-27T05:54:56.662127Z",
     "shell.execute_reply.started": "2021-12-27T04:25:14.232899Z"
    },
    "papermill": {
     "duration": 0.033583,
     "end_time": "2021-12-27T05:54:56.662755",
     "exception": false,
     "start_time": "2021-12-27T05:54:56.629172",
     "status": "completed"
    },
    "tags": []
   },
   "outputs": [
    {
     "name": "stdout",
     "output_type": "stream",
     "text": [
      "<class 'pandas.core.frame.DataFrame'>\n",
      "DatetimeIndex: 171 entries, 2018-01-02 to 2018-09-07\n",
      "Data columns (total 6 columns):\n",
      " #   Column  Non-Null Count  Dtype  \n",
      "---  ------  --------------  -----  \n",
      " 0   BMW.DE  171 non-null    float64\n",
      " 1   DAI.DE  171 non-null    float64\n",
      " 2   GM      171 non-null    float64\n",
      " 3   GOOG    171 non-null    float64\n",
      " 4   TSLA    171 non-null    float64\n",
      " 5   VOLVF   171 non-null    float64\n",
      "dtypes: float64(6)\n",
      "memory usage: 9.4 KB\n"
     ]
    }
   ],
   "source": [
    "dataset.info()"
   ]
  },
  {
   "cell_type": "code",
   "execution_count": 9,
   "id": "ec0e906a",
   "metadata": {
    "execution": {
     "iopub.execute_input": "2021-12-27T05:54:56.704217Z",
     "iopub.status.busy": "2021-12-27T05:54:56.703499Z",
     "iopub.status.idle": "2021-12-27T05:54:58.072979Z",
     "shell.execute_reply": "2021-12-27T05:54:58.073389Z",
     "shell.execute_reply.started": "2021-12-27T04:29:50.689124Z"
    },
    "papermill": {
     "duration": 1.393649,
     "end_time": "2021-12-27T05:54:58.073557",
     "exception": false,
     "start_time": "2021-12-27T05:54:56.679908",
     "status": "completed"
    },
    "tags": []
   },
   "outputs": [
    {
     "data": {
      "image/png": "[encoded data removed]",
      "text/plain": [
       "<Figure size 720x720 with 2 Axes>"
      ]
     },
     "metadata": {
      "needs_background": "light"
     },
     "output_type": "display_data"
    }
   ],
   "source": [
    "data_corr = dataset[dataset.index <= training_end]\n",
    "import seaborn as sns\n",
    "import matplotlib.pyplot as plt\n",
    "#get correlations of each features in dataset\n",
    "corrmat = data_corr.corr()\n",
    "top_corr_features = corrmat.index\n",
    "plt.figure(figsize=(10,10))\n",
    "#plot heat map\n",
    "g=sns.heatmap(data_corr[top_corr_features].corr(),annot=True,cmap=\"RdYlGn\")"
   ]
  },
  {
   "cell_type": "code",
   "execution_count": 10,
   "id": "526bf83a",
   "metadata": {
    "execution": {
     "iopub.execute_input": "2021-12-27T05:54:58.113472Z",
     "iopub.status.busy": "2021-12-27T05:54:58.112872Z",
     "iopub.status.idle": "2021-12-27T05:54:58.117364Z",
     "shell.execute_reply": "2021-12-27T05:54:58.117839Z",
     "shell.execute_reply.started": "2021-12-27T04:34:11.838427Z"
    },
    "papermill": {
     "duration": 0.026648,
     "end_time": "2021-12-27T05:54:58.118001",
     "exception": false,
     "start_time": "2021-12-27T05:54:58.091353",
     "status": "completed"
    },
    "tags": []
   },
   "outputs": [],
   "source": [
    "final_stocks = dataset[[\"TSLA\",\"VOLVF\",\"GOOG\",\"GM\",\"DAI.DE\"]]\n",
    "pre_period = [training_start,training_end]\n",
    "post_period = [treatment_start, treatment_end]"
   ]
  },
  {
   "cell_type": "code",
   "execution_count": 11,
   "id": "c2a5c587",
   "metadata": {
    "execution": {
     "iopub.execute_input": "2021-12-27T05:54:58.158217Z",
     "iopub.status.busy": "2021-12-27T05:54:58.156511Z",
     "iopub.status.idle": "2021-12-27T05:55:00.395871Z",
     "shell.execute_reply": "2021-12-27T05:55:00.395304Z",
     "shell.execute_reply.started": "2021-12-27T04:36:14.649279Z"
    },
    "papermill": {
     "duration": 2.260026,
     "end_time": "2021-12-27T05:55:00.396013",
     "exception": false,
     "start_time": "2021-12-27T05:54:58.135987",
     "status": "completed"
    },
    "tags": []
   },
   "outputs": [
    {
     "name": "stderr",
     "output_type": "stream",
     "text": [
      "/opt/conda/lib/python3.7/site-packages/statsmodels/tsa/base/tsa_model.py:583: ValueWarning: A date index has been provided, but it has no associated frequency information and so will be ignored when e.g. forecasting.\n",
      "  ' ignored when e.g. forecasting.', ValueWarning)\n",
      "/opt/conda/lib/python3.7/site-packages/statsmodels/tsa/base/tsa_model.py:379: ValueWarning: No supported index is available. Prediction results will be given with an integer index beginning at `start`.\n",
      "  ValueWarning)\n",
      "/opt/conda/lib/python3.7/site-packages/statsmodels/tsa/base/tsa_model.py:583: ValueWarning: A date index has been provided, but it has no associated frequency information and so will be ignored when e.g. forecasting.\n",
      "  ' ignored when e.g. forecasting.', ValueWarning)\n"
     ]
    }
   ],
   "source": [
    "from causalimpact import CausalImpact\n",
    "causal_effect = CausalImpact(data=final_stocks, pre_period=pre_period,post_period=post_period)"
   ]
  },
  {
   "cell_type": "code",
   "execution_count": 12,
   "id": "4c47225d",
   "metadata": {
    "execution": {
     "iopub.execute_input": "2021-12-27T05:55:00.440583Z",
     "iopub.status.busy": "2021-12-27T05:55:00.439897Z",
     "iopub.status.idle": "2021-12-27T05:55:00.443244Z",
     "shell.execute_reply": "2021-12-27T05:55:00.443696Z",
     "shell.execute_reply.started": "2021-12-27T04:36:56.611681Z"
    },
    "papermill": {
     "duration": 0.029179,
     "end_time": "2021-12-27T05:55:00.443878",
     "exception": false,
     "start_time": "2021-12-27T05:55:00.414699",
     "status": "completed"
    },
    "tags": []
   },
   "outputs": [
    {
     "name": "stdout",
     "output_type": "stream",
     "text": [
      "Posterior Inference {Causal Impact}\n",
      "                          Average            Cumulative\n",
      "Actual                    54.42              108.84\n",
      "Prediction (s.d.)         60.05 (2.57)       120.09 (5.15)\n",
      "95% CI                    [55.17, 65.27]     [110.35, 130.53]\n",
      "\n",
      "Absolute effect (s.d.)    -5.63 (2.57)       -11.26 (5.15)\n",
      "95% CI                    [-10.85, -0.76]    [-21.69, -1.51]\n",
      "\n",
      "Relative effect (s.d.)    -9.37% (4.29%)     -9.37% (4.29%)\n",
      "95% CI                    [-18.06%, -1.26%]  [-18.06%, -1.26%]\n",
      "\n",
      "Posterior tail-area probability p: 0.02\n",
      "Posterior prob. of a causal effect: 98.4%\n",
      "\n",
      "For more details run the command: print(impact.summary('report'))\n"
     ]
    }
   ],
   "source": [
    "print(causal_effect.summary())"
   ]
  },
  {
   "cell_type": "markdown",
   "id": "06e3db7b",
   "metadata": {
    "papermill": {
     "duration": 0.01818,
     "end_time": "2021-12-27T05:55:00.480525",
     "exception": false,
     "start_time": "2021-12-27T05:55:00.462345",
     "status": "completed"
    },
    "tags": []
   },
   "source": [
    "A p value of less than 0.05 shows that the results are statistically significant.\n",
    "\n"
   ]
  },
  {
   "cell_type": "code",
   "execution_count": null,
   "id": "f8dc0b31",
   "metadata": {
    "papermill": {
     "duration": 0.018381,
     "end_time": "2021-12-27T05:55:00.517381",
     "exception": false,
     "start_time": "2021-12-27T05:55:00.499000",
     "status": "completed"
    },
    "tags": []
   },
   "outputs": [],
   "source": []
  }
 ],
 "metadata": {
  "kernelspec": {
   "display_name": "Python 3",
   "language": "python",
   "name": "python3"
  },
  "language_info": {
   "codemirror_mode": {
    "name": "ipython",
    "version": 3
   },
   "file_extension": ".py",
   "mimetype": "text/x-python",
   "name": "python",
   "nbconvert_exporter": "python",
   "pygments_lexer": "ipython3",
   "version": "3.7.12"
  },
  "papermill": {
   "default_parameters": {},
   "duration": 32.520921,
   "end_time": "2021-12-27T05:55:01.245725",
   "environment_variables": {},
   "exception": null,
   "input_path": "__notebook__.ipynb",
   "output_path": "__notebook__.ipynb",
   "parameters": {},
   "start_time": "2021-12-27T05:54:28.724804",
   "version": "2.3.3"
  }
 },
 "nbformat": 4,
 "nbformat_minor": 5
}
