{
 "cells": [
  {
   "cell_type": "code",
   "execution_count": 1,
   "id": "6388a890",
   "metadata": {
    "_cell_guid": "b1076dfc-b9ad-4769-8c92-a6c4dae69d19",
    "_uuid": "8f2839f25d086af736a60e9eeb907d3b93b6e0e5",
    "execution": {
     "iopub.execute_input": "2022-01-28T00:58:06.540187Z",
     "iopub.status.busy": "2022-01-28T00:58:06.538366Z",
     "iopub.status.idle": "2022-01-28T00:58:29.403173Z",
     "shell.execute_reply": "2022-01-28T00:58:29.402437Z",
     "shell.execute_reply.started": "2021-12-26T23:36:24.881062Z"
    },
    "papermill": {
     "duration": 22.888908,
     "end_time": "2022-01-28T00:58:29.403361",
     "exception": false,
     "start_time": "2022-01-28T00:58:06.514453",
     "status": "completed"
    },
    "tags": []
   },
   "outputs": [
    {
     "name": "stdout",
     "output_type": "stream",
     "text": [
      "Collecting econml\r\n",
      "  Downloading econml-0.12.0-cp37-cp37m-manylinux_2_5_x86_64.manylinux1_x86_64.manylinux_2_12_x86_64.manylinux2010_x86_64.whl (3.1 MB)\r\n",
      "     |████████████████████████████████| 3.1 MB 241 kB/s            \r\n",
      "\u001b[?25hCollecting shap<0.40.0,>=0.38.1\r\n",
      "  Downloading shap-0.39.0.tar.gz (356 kB)\r\n",
      "     |████████████████████████████████| 356 kB 49.0 MB/s            \r\n",
      "\u001b[?25h  Preparing metadata (setup.py) ... \u001b[?25l-\b \b\\\b \bdone\r\n",
      "\u001b[?25hRequirement already satisfied: numpy in /opt/conda/lib/python3.7/site-packages (from econml) (1.19.5)\r\n",
      "Requirement already satisfied: statsmodels>=0.10 in /opt/conda/lib/python3.7/site-packages (from econml) (0.12.2)\r\n",
      "Requirement already satisfied: scikit-learn>0.22.0 in /opt/conda/lib/python3.7/site-packages (from econml) (0.23.2)\r\n",
      "Requirement already satisfied: lightgbm in /opt/conda/lib/python3.7/site-packages (from econml) (3.3.1)\r\n",
      "Collecting sparse\r\n",
      "  Downloading sparse-0.13.0-py2.py3-none-any.whl (77 kB)\r\n",
      "     |████████████████████████████████| 77 kB 4.5 MB/s             \r\n",
      "\u001b[?25hRequirement already satisfied: scipy>1.4.0 in /opt/conda/lib/python3.7/site-packages (from econml) (1.7.2)\r\n",
      "Requirement already satisfied: pandas in /opt/conda/lib/python3.7/site-packages (from econml) (1.3.4)\r\n",
      "Collecting dowhy\r\n",
      "  Downloading dowhy-0.7-py3-none-any.whl (152 kB)\r\n",
      "     |████████████████████████████████| 152 kB 47.9 MB/s            \r\n",
      "\u001b[?25hRequirement already satisfied: numba!=0.42.1 in /opt/conda/lib/python3.7/site-packages (from econml) (0.54.1)\r\n",
      "Requirement already satisfied: joblib>=0.13.0 in /opt/conda/lib/python3.7/site-packages (from econml) (1.1.0)\r\n",
      "Requirement already satisfied: llvmlite<0.38,>=0.37.0rc1 in /opt/conda/lib/python3.7/site-packages (from numba!=0.42.1->econml) (0.37.0)\r\n",
      "Requirement already satisfied: setuptools in /opt/conda/lib/python3.7/site-packages (from numba!=0.42.1->econml) (59.1.1)\r\n",
      "Requirement already satisfied: threadpoolctl>=2.0.0 in /opt/conda/lib/python3.7/site-packages (from scikit-learn>0.22.0->econml) (3.0.0)\r\n",
      "Requirement already satisfied: tqdm>4.25.0 in /opt/conda/lib/python3.7/site-packages (from shap<0.40.0,>=0.38.1->econml) (4.62.3)\r\n",
      "Requirement already satisfied: slicer==0.0.7 in /opt/conda/lib/python3.7/site-packages (from shap<0.40.0,>=0.38.1->econml) (0.0.7)\r\n",
      "Requirement already satisfied: cloudpickle in /opt/conda/lib/python3.7/site-packages (from shap<0.40.0,>=0.38.1->econml) (2.0.0)\r\n",
      "Requirement already satisfied: patsy>=0.5 in /opt/conda/lib/python3.7/site-packages (from statsmodels>=0.10->econml) (0.5.2)\r\n",
      "Requirement already satisfied: python-dateutil>=2.7.3 in /opt/conda/lib/python3.7/site-packages (from pandas->econml) (2.8.0)\r\n",
      "Requirement already satisfied: pytz>=2017.3 in /opt/conda/lib/python3.7/site-packages (from pandas->econml) (2021.3)\r\n",
      "Requirement already satisfied: pydot>=1.4 in /opt/conda/lib/python3.7/site-packages (from dowhy->econml) (1.4.2)\r\n",
      "Requirement already satisfied: networkx>=2.0 in /opt/conda/lib/python3.7/site-packages (from dowhy->econml) (2.6.3)\r\n",
      "Requirement already satisfied: sympy>=1.4 in /opt/conda/lib/python3.7/site-packages (from dowhy->econml) (1.9)\r\n",
      "Requirement already satisfied: wheel in /opt/conda/lib/python3.7/site-packages (from lightgbm->econml) (0.37.0)\r\n",
      "Requirement already satisfied: six in /opt/conda/lib/python3.7/site-packages (from patsy>=0.5->statsmodels>=0.10->econml) (1.16.0)\r\n",
      "Requirement already satisfied: pyparsing>=2.1.4 in /opt/conda/lib/python3.7/site-packages (from pydot>=1.4->dowhy->econml) (3.0.6)\r\n",
      "Requirement already satisfied: mpmath>=0.19 in /opt/conda/lib/python3.7/site-packages (from sympy>=1.4->dowhy->econml) (1.2.1)\r\n",
      "Building wheels for collected packages: shap\r\n",
      "  Building wheel for shap (setup.py) ... \u001b[?25l-\b \b\\\b \b|\b \b/\b \b-\b \b\\\b \b|\b \bdone\r\n",
      "\u001b[?25h  Created wheel for shap: filename=shap-0.39.0-cp37-cp37m-linux_x86_64.whl size=544687 sha256=445ef5154401c3539d7f5e36cd9a367244536c5f3536b77d40b93faca179bc5a\r\n",
      "  Stored in directory: /root/.cache/pip/wheels/ca/25/8f/6ae5df62c32651cd719e972e738a8aaa4a87414c4d2b14c9c0\r\n",
      "Successfully built shap\r\n",
      "Installing collected packages: sparse, shap, dowhy, econml\r\n",
      "  Attempting uninstall: shap\r\n",
      "    Found existing installation: shap 0.40.0\r\n",
      "    Uninstalling shap-0.40.0:\r\n",
      "      Successfully uninstalled shap-0.40.0\r\n",
      "Successfully installed dowhy-0.7 econml-0.12.0 shap-0.39.0 sparse-0.13.0\r\n",
      "\u001b[33mWARNING: Running pip as the 'root' user can result in broken permissions and conflicting behaviour with the system package manager. It is recommended to use a virtual environment instead: https://pip.pypa.io/warnings/venv\u001b[0m\r\n"
     ]
    }
   ],
   "source": [
    "!pip install econml"
   ]
  },
  {
   "cell_type": "code",
   "execution_count": 2,
   "id": "eb3b3b7d",
   "metadata": {
    "execution": {
     "iopub.execute_input": "2022-01-28T00:58:29.486325Z",
     "iopub.status.busy": "2022-01-28T00:58:29.485226Z",
     "iopub.status.idle": "2022-01-28T00:58:39.785918Z",
     "shell.execute_reply": "2022-01-28T00:58:39.785151Z",
     "shell.execute_reply.started": "2021-12-26T23:36:46.647267Z"
    },
    "papermill": {
     "duration": 10.346726,
     "end_time": "2022-01-28T00:58:39.786066",
     "exception": false,
     "start_time": "2022-01-28T00:58:29.439340",
     "status": "completed"
    },
    "tags": []
   },
   "outputs": [],
   "source": [
    "# Some imports to get us started\n",
    "import warnings\n",
    "warnings.simplefilter('ignore')\n",
    "\n",
    "# Utilities\n",
    "import os\n",
    "import urllib.request\n",
    "import numpy as np\n",
    "import pandas as pd\n",
    "from networkx.drawing.nx_pydot import to_pydot\n",
    "from IPython.display import Image, display\n",
    "\n",
    "# Generic ML imports\n",
    "from sklearn.preprocessing import PolynomialFeatures\n",
    "from sklearn.ensemble import GradientBoostingRegressor\n",
    "\n",
    "# EconML imports\n",
    "from econml.dml import LinearDML, CausalForestDML\n",
    "from econml.cate_interpreter import SingleTreeCateInterpreter, SingleTreePolicyInterpreter\n",
    "\n",
    "import matplotlib.pyplot as plt\n",
    "\n",
    "%matplotlib inline"
   ]
  },
  {
   "cell_type": "code",
   "execution_count": 3,
   "id": "84718a4f",
   "metadata": {
    "execution": {
     "iopub.execute_input": "2022-01-28T00:58:39.862578Z",
     "iopub.status.busy": "2022-01-28T00:58:39.861870Z",
     "iopub.status.idle": "2022-01-28T00:58:42.115037Z",
     "shell.execute_reply": "2022-01-28T00:58:42.114414Z",
     "shell.execute_reply.started": "2021-12-26T23:38:09.452109Z"
    },
    "papermill": {
     "duration": 2.294442,
     "end_time": "2022-01-28T00:58:42.115196",
     "exception": false,
     "start_time": "2022-01-28T00:58:39.820754",
     "status": "completed"
    },
    "tags": []
   },
   "outputs": [],
   "source": [
    "# Import the sample pricing data\n",
    "file_url = \"https://msalicedatapublic.blob.core.windows.net/datasets/Pricing/pricing_sample.csv\"\n",
    "train_data = pd.read_csv(file_url)"
   ]
  },
  {
   "cell_type": "code",
   "execution_count": 4,
   "id": "189dc8ab",
   "metadata": {
    "execution": {
     "iopub.execute_input": "2022-01-28T00:58:42.192582Z",
     "iopub.status.busy": "2022-01-28T00:58:42.191868Z",
     "iopub.status.idle": "2022-01-28T00:58:42.209105Z",
     "shell.execute_reply": "2022-01-28T00:58:42.208510Z",
     "shell.execute_reply.started": "2021-12-26T23:38:17.876904Z"
    },
    "papermill": {
     "duration": 0.059521,
     "end_time": "2022-01-28T00:58:42.209249",
     "exception": false,
     "start_time": "2022-01-28T00:58:42.149728",
     "status": "completed"
    },
    "tags": []
   },
   "outputs": [
    {
     "data": {
      "text/html": [
       "<div>\n",
       "<style scoped>\n",
       "    .dataframe tbody tr th:only-of-type {\n",
       "        vertical-align: middle;\n",
       "    }\n",
       "\n",
       "    .dataframe tbody tr th {\n",
       "        vertical-align: top;\n",
       "    }\n",
       "\n",
       "    .dataframe thead th {\n",
       "        text-align: right;\n",
       "    }\n",
       "</style>\n",
       "<table border=\"1\" class=\"dataframe\">\n",
       "  <thead>\n",
       "    <tr style=\"text-align: right;\">\n",
       "      <th></th>\n",
       "      <th>account_age</th>\n",
       "      <th>age</th>\n",
       "      <th>avg_hours</th>\n",
       "      <th>days_visited</th>\n",
       "      <th>friends_count</th>\n",
       "      <th>has_membership</th>\n",
       "      <th>is_US</th>\n",
       "      <th>songs_purchased</th>\n",
       "      <th>income</th>\n",
       "      <th>price</th>\n",
       "      <th>demand</th>\n",
       "    </tr>\n",
       "  </thead>\n",
       "  <tbody>\n",
       "    <tr>\n",
       "      <th>0</th>\n",
       "      <td>3</td>\n",
       "      <td>53</td>\n",
       "      <td>1.834234</td>\n",
       "      <td>2</td>\n",
       "      <td>8</td>\n",
       "      <td>1</td>\n",
       "      <td>1</td>\n",
       "      <td>4.903237</td>\n",
       "      <td>0.960863</td>\n",
       "      <td>1.0</td>\n",
       "      <td>3.917117</td>\n",
       "    </tr>\n",
       "    <tr>\n",
       "      <th>1</th>\n",
       "      <td>5</td>\n",
       "      <td>54</td>\n",
       "      <td>7.171411</td>\n",
       "      <td>7</td>\n",
       "      <td>9</td>\n",
       "      <td>0</td>\n",
       "      <td>1</td>\n",
       "      <td>3.330161</td>\n",
       "      <td>0.732487</td>\n",
       "      <td>1.0</td>\n",
       "      <td>11.585706</td>\n",
       "    </tr>\n",
       "    <tr>\n",
       "      <th>2</th>\n",
       "      <td>3</td>\n",
       "      <td>33</td>\n",
       "      <td>5.351920</td>\n",
       "      <td>6</td>\n",
       "      <td>9</td>\n",
       "      <td>0</td>\n",
       "      <td>1</td>\n",
       "      <td>3.036203</td>\n",
       "      <td>1.130937</td>\n",
       "      <td>1.0</td>\n",
       "      <td>24.675960</td>\n",
       "    </tr>\n",
       "    <tr>\n",
       "      <th>3</th>\n",
       "      <td>2</td>\n",
       "      <td>34</td>\n",
       "      <td>6.723551</td>\n",
       "      <td>0</td>\n",
       "      <td>8</td>\n",
       "      <td>0</td>\n",
       "      <td>1</td>\n",
       "      <td>7.911926</td>\n",
       "      <td>0.929197</td>\n",
       "      <td>1.0</td>\n",
       "      <td>6.361776</td>\n",
       "    </tr>\n",
       "    <tr>\n",
       "      <th>4</th>\n",
       "      <td>4</td>\n",
       "      <td>30</td>\n",
       "      <td>2.448247</td>\n",
       "      <td>5</td>\n",
       "      <td>8</td>\n",
       "      <td>1</td>\n",
       "      <td>0</td>\n",
       "      <td>7.148967</td>\n",
       "      <td>0.533527</td>\n",
       "      <td>0.8</td>\n",
       "      <td>12.624123</td>\n",
       "    </tr>\n",
       "  </tbody>\n",
       "</table>\n",
       "</div>"
      ],
      "text/plain": [
       "   account_age  age  avg_hours  days_visited  friends_count  has_membership  \\\n",
       "0            3   53   1.834234             2              8               1   \n",
       "1            5   54   7.171411             7              9               0   \n",
       "2            3   33   5.351920             6              9               0   \n",
       "3            2   34   6.723551             0              8               0   \n",
       "4            4   30   2.448247             5              8               1   \n",
       "\n",
       "   is_US  songs_purchased    income  price     demand  \n",
       "0      1         4.903237  0.960863    1.0   3.917117  \n",
       "1      1         3.330161  0.732487    1.0  11.585706  \n",
       "2      1         3.036203  1.130937    1.0  24.675960  \n",
       "3      1         7.911926  0.929197    1.0   6.361776  \n",
       "4      0         7.148967  0.533527    0.8  12.624123  "
      ]
     },
     "execution_count": 4,
     "metadata": {},
     "output_type": "execute_result"
    }
   ],
   "source": [
    "train_data.head()"
   ]
  },
  {
   "cell_type": "code",
   "execution_count": 5,
   "id": "44af5ee6",
   "metadata": {
    "execution": {
     "iopub.execute_input": "2022-01-28T00:58:42.281134Z",
     "iopub.status.busy": "2022-01-28T00:58:42.280427Z",
     "iopub.status.idle": "2022-01-28T00:58:42.298762Z",
     "shell.execute_reply": "2022-01-28T00:58:42.298129Z",
     "shell.execute_reply.started": "2021-12-26T23:38:42.368068Z"
    },
    "papermill": {
     "duration": 0.055239,
     "end_time": "2022-01-28T00:58:42.298909",
     "exception": false,
     "start_time": "2022-01-28T00:58:42.243670",
     "status": "completed"
    },
    "tags": []
   },
   "outputs": [],
   "source": [
    "#estimator inputs\n",
    "train_data[\"log_demand\"] = np.log(train_data[\"demand\"])\n",
    "train_data[\"log_price\"] = np.log(train_data[\"price\"])\n",
    "\n",
    "Y = train_data[\"log_demand\"].values\n",
    "T = train_data[\"log_price\"].values\n",
    "X = train_data[[\"income\"]].values  # features\n",
    "confounder_names = [\"account_age\", \"age\", \"avg_hours\", \"days_visited\", \"friends_count\", \"has_membership\", \"is_US\", \"songs_purchased\"]\n",
    "W = train_data[confounder_names].values"
   ]
  },
  {
   "cell_type": "code",
   "execution_count": 6,
   "id": "0d4a0ed0",
   "metadata": {
    "execution": {
     "iopub.execute_input": "2022-01-28T00:58:42.374930Z",
     "iopub.status.busy": "2022-01-28T00:58:42.374053Z",
     "iopub.status.idle": "2022-01-28T00:58:42.377375Z",
     "shell.execute_reply": "2022-01-28T00:58:42.377870Z",
     "shell.execute_reply.started": "2021-12-26T23:39:07.017341Z"
    },
    "papermill": {
     "duration": 0.044814,
     "end_time": "2022-01-28T00:58:42.378070",
     "exception": false,
     "start_time": "2022-01-28T00:58:42.333256",
     "status": "completed"
    },
    "tags": []
   },
   "outputs": [],
   "source": [
    "# Get test data\n",
    "X_test = np.linspace(0, 5, 100).reshape(-1, 1)\n",
    "X_test_data = pd.DataFrame(X_test, columns=[\"income\"])"
   ]
  },
  {
   "cell_type": "markdown",
   "id": "9be468b2",
   "metadata": {
    "papermill": {
     "duration": 0.036305,
     "end_time": "2022-01-28T00:58:42.448719",
     "exception": false,
     "start_time": "2022-01-28T00:58:42.412414",
     "status": "completed"
    },
    "tags": []
   },
   "source": [
    "## Create Causal Model "
   ]
  },
  {
   "cell_type": "code",
   "execution_count": 7,
   "id": "2b56995e",
   "metadata": {
    "execution": {
     "iopub.execute_input": "2022-01-28T00:58:42.523944Z",
     "iopub.status.busy": "2022-01-28T00:58:42.523195Z",
     "iopub.status.idle": "2022-01-28T00:58:42.524743Z",
     "shell.execute_reply": "2022-01-28T00:58:42.525177Z",
     "shell.execute_reply.started": "2021-12-26T23:40:16.700985Z"
    },
    "papermill": {
     "duration": 0.042298,
     "end_time": "2022-01-28T00:58:42.525343",
     "exception": false,
     "start_time": "2022-01-28T00:58:42.483045",
     "status": "completed"
    },
    "tags": []
   },
   "outputs": [],
   "source": [
    "# initiate an EconML cate estimator\n",
    "est = LinearDML(model_y=GradientBoostingRegressor(), model_t=GradientBoostingRegressor(),\n",
    "              featurizer=PolynomialFeatures(degree=2, include_bias=False))"
   ]
  },
  {
   "cell_type": "code",
   "execution_count": 8,
   "id": "5f011555",
   "metadata": {
    "execution": {
     "iopub.execute_input": "2022-01-28T00:58:42.598506Z",
     "iopub.status.busy": "2022-01-28T00:58:42.597810Z",
     "iopub.status.idle": "2022-01-28T00:58:52.998082Z",
     "shell.execute_reply": "2022-01-28T00:58:52.999185Z",
     "shell.execute_reply.started": "2021-12-26T23:40:24.462706Z"
    },
    "papermill": {
     "duration": 10.439777,
     "end_time": "2022-01-28T00:58:52.999435",
     "exception": false,
     "start_time": "2022-01-28T00:58:42.559658",
     "status": "completed"
    },
    "tags": []
   },
   "outputs": [],
   "source": [
    "# fit through dowhy\n",
    "est_dw = est.dowhy.fit(Y, T, X=X, W=W, outcome_names=[\"log_demand\"], treatment_names=[\"log_price\"], feature_names=[\"income\"],\n",
    "               confounder_names=confounder_names, inference=\"statsmodels\")"
   ]
  },
  {
   "cell_type": "code",
   "execution_count": 9,
   "id": "df2d8375",
   "metadata": {
    "execution": {
     "iopub.execute_input": "2022-01-28T00:58:53.157014Z",
     "iopub.status.busy": "2022-01-28T00:58:53.155957Z",
     "iopub.status.idle": "2022-01-28T00:58:54.056201Z",
     "shell.execute_reply": "2022-01-28T00:58:54.056795Z",
     "shell.execute_reply.started": "2021-12-26T23:40:47.593835Z"
    },
    "papermill": {
     "duration": 0.950136,
     "end_time": "2022-01-28T00:58:54.056980",
     "exception": false,
     "start_time": "2022-01-28T00:58:53.106844",
     "status": "completed"
    },
    "tags": []
   },
   "outputs": [
    {
     "data": {
      "image/png": "[encoded data removed]",
      "text/plain": [
       "<IPython.core.display.Image object>"
      ]
     },
     "metadata": {},
     "output_type": "display_data"
    }
   ],
   "source": [
    "# Visualize causal graph\n",
    "try:\n",
    "    # Try pretty printing the graph. Requires pydot and pygraphviz\n",
    "    display(\n",
    "        Image(to_pydot(est_dw._graph._graph).create_png())\n",
    "    )\n",
    "except:\n",
    "    # Fall back on default graph view\n",
    "    est_dw.view_model() "
   ]
  },
  {
   "cell_type": "code",
   "execution_count": 10,
   "id": "f95bcdef",
   "metadata": {
    "execution": {
     "iopub.execute_input": "2022-01-28T00:58:54.137852Z",
     "iopub.status.busy": "2022-01-28T00:58:54.136784Z",
     "iopub.status.idle": "2022-01-28T00:58:54.156033Z",
     "shell.execute_reply": "2022-01-28T00:58:54.156604Z",
     "shell.execute_reply.started": "2021-12-26T23:41:01.854649Z"
    },
    "papermill": {
     "duration": 0.061013,
     "end_time": "2022-01-28T00:58:54.156785",
     "exception": false,
     "start_time": "2022-01-28T00:58:54.095772",
     "status": "completed"
    },
    "tags": []
   },
   "outputs": [
    {
     "name": "stdout",
     "output_type": "stream",
     "text": [
      "Estimand type: nonparametric-ate\n",
      "\n",
      "### Estimand : 1\n",
      "Estimand name: backdoor\n",
      "Estimand expression:\n",
      "     d                                                                        \n",
      "────────────(Expectation(log_demand|is_US,avg_hours,age,songs_purchased,income\n",
      "d[log_price]                                                                  \n",
      "\n",
      "                                                        \n",
      ",friends_count,has_membership,account_age,days_visited))\n",
      "                                                        \n",
      "Estimand assumption 1, Unconfoundedness: If U→{log_price} and U→log_demand then P(log_demand|log_price,is_US,avg_hours,age,songs_purchased,income,friends_count,has_membership,account_age,days_visited,U) = P(log_demand|log_price,is_US,avg_hours,age,songs_purchased,income,friends_count,has_membership,account_age,days_visited)\n",
      "\n",
      "### Estimand : 2\n",
      "Estimand name: iv\n",
      "No such variable(s) found!\n",
      "\n",
      "### Estimand : 3\n",
      "Estimand name: frontdoor\n",
      "No such variable(s) found!\n",
      "\n"
     ]
    }
   ],
   "source": [
    "identified_estimand = est_dw.identified_estimand_\n",
    "print(identified_estimand)"
   ]
  },
  {
   "cell_type": "code",
   "execution_count": 11,
   "id": "a31a63f6",
   "metadata": {
    "execution": {
     "iopub.execute_input": "2022-01-28T00:58:54.236363Z",
     "iopub.status.busy": "2022-01-28T00:58:54.235740Z",
     "iopub.status.idle": "2022-01-28T00:58:59.286107Z",
     "shell.execute_reply": "2022-01-28T00:58:59.285356Z",
     "shell.execute_reply.started": "2021-12-26T23:41:55.892426Z"
    },
    "papermill": {
     "duration": 5.091359,
     "end_time": "2022-01-28T00:58:59.286250",
     "exception": false,
     "start_time": "2022-01-28T00:58:54.194891",
     "status": "completed"
    },
    "tags": []
   },
   "outputs": [],
   "source": [
    "# initiate an EconML cate estimator\n",
    "est_nonparam = CausalForestDML(model_y=GradientBoostingRegressor(), model_t=GradientBoostingRegressor())\n",
    "# fit through dowhy\n",
    "est_nonparam_dw = est_nonparam.dowhy.fit(Y, T, X=X, W=W, outcome_names=[\"log_demand\"], treatment_names=[\"log_price\"],\n",
    "                                         feature_names=[\"income\"], confounder_names=confounder_names, inference=\"blb\")"
   ]
  },
  {
   "cell_type": "markdown",
   "id": "4d3ca5c4",
   "metadata": {
    "papermill": {
     "duration": 0.040188,
     "end_time": "2022-01-28T00:58:59.370756",
     "exception": false,
     "start_time": "2022-01-28T00:58:59.330568",
     "status": "completed"
    },
    "tags": []
   },
   "source": [
    "# Test Estimate Robustness with DoWhy"
   ]
  },
  {
   "cell_type": "markdown",
   "id": "363065cc",
   "metadata": {
    "papermill": {
     "duration": 0.038532,
     "end_time": "2022-01-28T00:58:59.448310",
     "exception": false,
     "start_time": "2022-01-28T00:58:59.409778",
     "status": "completed"
    },
    "tags": []
   },
   "source": [
    "## Add Random Common Cause"
   ]
  },
  {
   "cell_type": "markdown",
   "id": "9cddb05c",
   "metadata": {
    "papermill": {
     "duration": 0.04089,
     "end_time": "2022-01-28T00:58:59.529280",
     "exception": false,
     "start_time": "2022-01-28T00:58:59.488390",
     "status": "completed"
    },
    "tags": []
   },
   "source": [
    "How robust are our estimates to adding another confounder?"
   ]
  },
  {
   "cell_type": "markdown",
   "id": "b00f1bfd",
   "metadata": {
    "papermill": {
     "duration": 0.03827,
     "end_time": "2022-01-28T00:58:59.608059",
     "exception": false,
     "start_time": "2022-01-28T00:58:59.569789",
     "status": "completed"
    },
    "tags": []
   },
   "source": []
  },
  {
   "cell_type": "code",
   "execution_count": 12,
   "id": "ff21983a",
   "metadata": {
    "execution": {
     "iopub.execute_input": "2022-01-28T00:58:59.693653Z",
     "iopub.status.busy": "2022-01-28T00:58:59.691517Z",
     "iopub.status.idle": "2022-01-28T01:08:15.415826Z",
     "shell.execute_reply": "2022-01-28T01:08:15.416590Z",
     "shell.execute_reply.started": "2021-12-26T23:43:08.72635Z"
    },
    "papermill": {
     "duration": 555.770168,
     "end_time": "2022-01-28T01:08:15.416841",
     "exception": false,
     "start_time": "2022-01-28T00:58:59.646673",
     "status": "completed"
    },
    "tags": []
   },
   "outputs": [
    {
     "name": "stdout",
     "output_type": "stream",
     "text": [
      "Refute: Add a random common cause\n",
      "Estimated effect:-0.9573995973779295\n",
      "New effect:-0.95832930881448\n",
      "p value:0.37\n",
      "\n"
     ]
    }
   ],
   "source": [
    "res_random = est_nonparam_dw.refute_estimate(method_name=\"random_common_cause\")\n",
    "print(res_random)"
   ]
  },
  {
   "cell_type": "markdown",
   "id": "53b1a2a3",
   "metadata": {
    "papermill": {
     "duration": 0.038465,
     "end_time": "2022-01-28T01:08:15.494774",
     "exception": false,
     "start_time": "2022-01-28T01:08:15.456309",
     "status": "completed"
    },
    "tags": []
   },
   "source": [
    "How robust are our estimates to unobserved confounders"
   ]
  },
  {
   "cell_type": "code",
   "execution_count": 13,
   "id": "b6b5cfd0",
   "metadata": {
    "execution": {
     "iopub.execute_input": "2022-01-28T01:08:15.578018Z",
     "iopub.status.busy": "2022-01-28T01:08:15.576703Z",
     "iopub.status.idle": "2022-01-28T01:08:20.440795Z",
     "shell.execute_reply": "2022-01-28T01:08:20.440158Z",
     "shell.execute_reply.started": "2021-12-26T23:44:25.332917Z"
    },
    "papermill": {
     "duration": 4.908057,
     "end_time": "2022-01-28T01:08:20.440957",
     "exception": false,
     "start_time": "2022-01-28T01:08:15.532900",
     "status": "completed"
    },
    "tags": []
   },
   "outputs": [
    {
     "name": "stdout",
     "output_type": "stream",
     "text": [
      "Refute: Add an Unobserved Common Cause\n",
      "Estimated effect:-0.9573995973779295\n",
      "New effect:-1.010149368734301\n",
      "\n"
     ]
    }
   ],
   "source": [
    "res_unobserved = est_nonparam_dw.refute_estimate(\n",
    "    method_name=\"add_unobserved_common_cause\",\n",
    "    confounders_effect_on_treatment=\"linear\",\n",
    "    confounders_effect_on_outcome=\"linear\",\n",
    "    effect_strength_on_treatment=0.1,\n",
    "    effect_strength_on_outcome=0.1,\n",
    ")\n",
    "print(res_unobserved)"
   ]
  },
  {
   "cell_type": "markdown",
   "id": "70f22473",
   "metadata": {
    "papermill": {
     "duration": 0.039557,
     "end_time": "2022-01-28T01:08:20.519924",
     "exception": false,
     "start_time": "2022-01-28T01:08:20.480367",
     "status": "completed"
    },
    "tags": []
   },
   "source": [
    "## Replace Treatment with a Random (Placebo) Variable\n"
   ]
  },
  {
   "cell_type": "markdown",
   "id": "9f52f9c4",
   "metadata": {
    "papermill": {
     "duration": 0.038807,
     "end_time": "2022-01-28T01:08:20.597669",
     "exception": false,
     "start_time": "2022-01-28T01:08:20.558862",
     "status": "completed"
    },
    "tags": []
   },
   "source": [
    "What happens our estimates if we replace the treatment variable with noise?"
   ]
  },
  {
   "cell_type": "code",
   "execution_count": 14,
   "id": "4f541835",
   "metadata": {
    "execution": {
     "iopub.execute_input": "2022-01-28T01:08:20.679373Z",
     "iopub.status.busy": "2022-01-28T01:08:20.678727Z",
     "iopub.status.idle": "2022-01-28T01:08:35.671503Z",
     "shell.execute_reply": "2022-01-28T01:08:35.672147Z",
     "shell.execute_reply.started": "2021-12-26T23:45:16.01712Z"
    },
    "papermill": {
     "duration": 15.035499,
     "end_time": "2022-01-28T01:08:35.672341",
     "exception": false,
     "start_time": "2022-01-28T01:08:20.636842",
     "status": "completed"
    },
    "tags": []
   },
   "outputs": [
    {
     "name": "stdout",
     "output_type": "stream",
     "text": [
      "Refute: Use a Placebo Treatment\n",
      "Estimated effect:-0.9573995973779295\n",
      "New effect:-0.009779517229192933\n",
      "p value:0.15574829607146912\n",
      "\n"
     ]
    }
   ],
   "source": [
    "res_placebo = est_nonparam_dw.refute_estimate(\n",
    "    method_name=\"placebo_treatment_refuter\", placebo_type=\"permute\", \n",
    "    num_simulations=3\n",
    ")\n",
    "print(res_placebo)"
   ]
  },
  {
   "cell_type": "markdown",
   "id": "ef3b4014",
   "metadata": {
    "papermill": {
     "duration": 0.038717,
     "end_time": "2022-01-28T01:08:35.751602",
     "exception": false,
     "start_time": "2022-01-28T01:08:35.712885",
     "status": "completed"
    },
    "tags": []
   },
   "source": [
    "## Remove a Random Subset of the Data"
   ]
  },
  {
   "cell_type": "markdown",
   "id": "f1a2cb43",
   "metadata": {
    "papermill": {
     "duration": 0.038559,
     "end_time": "2022-01-28T01:08:35.829187",
     "exception": false,
     "start_time": "2022-01-28T01:08:35.790628",
     "status": "completed"
    },
    "tags": []
   },
   "source": [
    "Do we recover similar estimates on subsets of the data?"
   ]
  },
  {
   "cell_type": "code",
   "execution_count": 15,
   "id": "09531134",
   "metadata": {
    "execution": {
     "iopub.execute_input": "2022-01-28T01:08:35.914872Z",
     "iopub.status.busy": "2022-01-28T01:08:35.914008Z",
     "iopub.status.idle": "2022-01-28T01:08:47.711502Z",
     "shell.execute_reply": "2022-01-28T01:08:47.710957Z",
     "shell.execute_reply.started": "2021-12-26T23:47:29.4837Z"
    },
    "papermill": {
     "duration": 11.842655,
     "end_time": "2022-01-28T01:08:47.711707",
     "exception": false,
     "start_time": "2022-01-28T01:08:35.869052",
     "status": "completed"
    },
    "tags": []
   },
   "outputs": [
    {
     "name": "stdout",
     "output_type": "stream",
     "text": [
      "Refute: Use a subset of data\n",
      "Estimated effect:-0.9573995973779295\n",
      "New effect:-0.9517490711399156\n",
      "p value:0.31210482684964586\n",
      "\n"
     ]
    }
   ],
   "source": [
    "res_subset = est_nonparam_dw.refute_estimate(\n",
    "    method_name=\"data_subset_refuter\", subset_fraction=0.8, \n",
    "    num_simulations=3)\n",
    "print(res_subset)"
   ]
  },
  {
   "cell_type": "code",
   "execution_count": null,
   "id": "04c261ff",
   "metadata": {
    "papermill": {
     "duration": 0.039707,
     "end_time": "2022-01-28T01:08:47.791064",
     "exception": false,
     "start_time": "2022-01-28T01:08:47.751357",
     "status": "completed"
    },
    "tags": []
   },
   "outputs": [],
   "source": []
  }
 ],
 "metadata": {
  "kernelspec": {
   "display_name": "Python 3",
   "language": "python",
   "name": "python3"
  },
  "language_info": {
   "codemirror_mode": {
    "name": "ipython",
    "version": 3
   },
   "file_extension": ".py",
   "mimetype": "text/x-python",
   "name": "python",
   "nbconvert_exporter": "python",
   "pygments_lexer": "ipython3",
   "version": "3.7.12"
  },
  "papermill": {
   "default_parameters": {},
   "duration": 654.958028,
   "end_time": "2022-01-28T01:08:51.051722",
   "environment_variables": {},
   "exception": null,
   "input_path": "__notebook__.ipynb",
   "output_path": "__notebook__.ipynb",
   "parameters": {},
   "start_time": "2022-01-28T00:57:56.093694",
   "version": "2.3.3"
  }
 },
 "nbformat": 4,
 "nbformat_minor": 5
}
